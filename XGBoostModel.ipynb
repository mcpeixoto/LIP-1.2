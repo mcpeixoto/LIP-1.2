{
 "metadata": {
  "language_info": {
   "codemirror_mode": {
    "name": "ipython",
    "version": 3
   },
   "file_extension": ".py",
   "mimetype": "text/x-python",
   "name": "python",
   "nbconvert_exporter": "python",
   "pygments_lexer": "ipython3",
   "version": "3.8.5-final"
  },
  "orig_nbformat": 2,
  "kernelspec": {
   "name": "python3",
   "display_name": "Python 3",
   "language": "python"
  }
 },
 "nbformat": 4,
 "nbformat_minor": 2,
 "cells": [
  {
   "cell_type": "code",
   "execution_count": 1,
   "metadata": {},
   "outputs": [],
   "source": [
    "import torch\n",
    "import torch.nn as nn\n",
    "import torch.nn.functional as F \n",
    "import torch.optim as optim \n",
    "import torchvision \n",
    "import torchvision.transforms as transforms\n",
    "from datetime import datetime\n",
    "import pandas as pd\n",
    "import xgboost as xgb\n",
    "from xgboost import XGBClassifier\n",
    "import os\n",
    "from os.path import join\n",
    "import timeit\n",
    "from tqdm import tqdm\n",
    "import numpy as np\n",
    "import optuna\n",
    "from sklearn.metrics import confusion_matrix\n",
    "from torch.utils.tensorboard import SummaryWriter\n",
    "torch.cuda.is_available() \n",
    "from sklearn.metrics import roc_auc_score"
   ]
  },
  {
   "cell_type": "code",
   "execution_count": 2,
   "metadata": {},
   "outputs": [],
   "source": [
    "def data_loader(data=\"train\", directory=join(os.getcwd(),'NormalizedData.h5')):\n",
    "    # Data types = train, validate, test\n",
    "    print(\"[+] Loading Data..\")\n",
    "    tic=timeit.default_timer()\n",
    "\n",
    "    df = pd.read_hdf(\n",
    "                    directory,\n",
    "                    key=data,\n",
    "                    )\n",
    "    \n",
    "    toc=timeit.default_timer()\n",
    "    print(\"[+] Data Loaded in\", int(toc-tic), \"seconds!\")\n",
    "\n",
    "    return df\n",
    "\n",
    "def create_batch(df, size=None, debug=False):\n",
    "    # Data types = train, validate, test\n",
    "\n",
    "    if debug:\n",
    "        print(\"[Info] Len(data) =\", len(df))\n",
    "        print(\"[Info] Len(data) / Batch Size =\", len(df)/size)\n",
    "\n",
    "    if size is None:\n",
    "        size = df.shape[0]\n",
    "\n",
    "    # Select the data size\n",
    "    # TODO: Estou a perder um pouco de dados no final\n",
    "    batch = iter([\n",
    "            # Big tuple\n",
    "            (\n",
    "                i+1, # Batch number\n",
    "                df.iloc[x:x+size].drop(columns=['index','Name', 'Weights', 'Label']), # Features Removi MissingET_Eta porque tava cheio de NaA (???)\n",
    "                df['Label'].iloc[x:x+size],\n",
    "\n",
    "                (\n",
    "                np.where(\n",
    "                    df['Label'].iloc[x:x+size] == 0,\n",
    "                    df['Weights'].iloc[x:x+size] / df['Weights'].iloc[x:x+size][df['Label'].iloc[x:x+size] == 0].sum(),\n",
    "                    df['Weights'].iloc[x:x+size] / df['Weights'].iloc[x:x+size][df['Label'].iloc[x:x+size] == 1].sum(),\n",
    "                )\n",
    "                * df['Label'].iloc[x:x+size].shape[0]\n",
    "                / 2\n",
    "                ),\n",
    "                df.iloc[x:x+size]['Name'] #Nome\n",
    "        ) \n",
    "        \n",
    "         for i,x in enumerate(list(filter(lambda x: (x%(size+1) == 0) , [x for x in range(len(df))])))]) # Para size = 100 -> 0, 101, 202, 303, .. , 909, 1010, 1111\n",
    "\n",
    "\n",
    "    del df\n",
    "\n",
    "    return batch\n",
    "\n",
    "def bce(y_preds, y_true, epsilon=np.finfo(np.float32).eps):\n",
    "    return - (1-y_true)* torch.log(1-y_preds+epsilon) - y_true * torch.log(y_preds+epsilon)"
   ]
  },
  {
   "source": [
    "## Training the model"
   ],
   "cell_type": "markdown",
   "metadata": {}
  },
  {
   "cell_type": "code",
   "execution_count": 3,
   "metadata": {},
   "outputs": [
    {
     "output_type": "stream",
     "name": "stdout",
     "text": [
      "[+] Loading Data..\n",
      "[+] Data Loaded in 1 seconds!\n",
      "[+] Loading Data..\n",
      "[+] Data Loaded in 8 seconds!\n"
     ]
    }
   ],
   "source": [
    "#batch_number, features, target, weights, name \n",
    "train_data = data_loader(data='train')\n",
    "val_data = data_loader(data='validate')\n",
    "\n",
    "\n",
    "_, train_features, train_label, train_weights, _ = next(create_batch(train_data, size=train_data.shape[0]))\n",
    "_, val_features, val_label, val_weights, _ = next(create_batch(val_data, size=val_data.shape[0]))\n",
    "\n",
    "del val_data\n",
    "del train_data"
   ]
  },
  {
   "cell_type": "code",
   "execution_count": 4,
   "metadata": {},
   "outputs": [],
   "source": [
    "global best_roc\n",
    "best_roc = 0"
   ]
  },
  {
   "cell_type": "code",
   "execution_count": 5,
   "metadata": {},
   "outputs": [],
   "source": [
    "def define_model(trial):\n",
    "    # Optuna Stuff\n",
    "    n_estimators = trial.suggest_int(\"n_estimators\", 5, 300)\n",
    "    max_depth = trial.suggest_int(\"max_depth\", 1, 25)\n",
    "    learning_rate = trial.suggest_float(\"learning_rate\", 1e-6, 1e-1, log=True)\n",
    "\n",
    "    # Defining the model\n",
    "    model = XGBClassifier(\n",
    "      n_jobs=-1\n",
    "    , objective='binary:logistic' # https://xgboost-clone.readthedocs.io/en/latest/parameter.html#learning-task-parameters\n",
    "    , n_estimators = n_estimators # Number of boosting rounds.\n",
    "    , max_depth = max_depth # Maximum tree depth for base learners.\n",
    "    , learning_rate = learning_rate\n",
    "    , verbosity = 0 #(Silent)\n",
    "    , tree_method='gpu_hist'\n",
    "    )\n",
    "    return model"
   ]
  },
  {
   "cell_type": "code",
   "execution_count": 6,
   "metadata": {},
   "outputs": [],
   "source": [
    "\n",
    "def train_model(trial):\n",
    "    global best_roc\n",
    "\n",
    "    print(\"[+] Starting training..\")\n",
    "    tic=timeit.default_timer()  \n",
    "\n",
    "    # Optuna Stuff\n",
    "    early_stopping_rounds = trial.suggest_int(\"early_stopping_rounds\", 1, 20)\n",
    "\n",
    "    # Defining the model\n",
    "    model = define_model(trial)\n",
    "    \n",
    "    model.fit(\n",
    "        train_features\n",
    "    , train_label\n",
    "    , sample_weight = train_weights\n",
    "    , eval_set = [(val_features, val_label)]\n",
    "    , sample_weight_eval_set = [val_weights]\n",
    "    , verbose = False\n",
    "    , early_stopping_rounds = early_stopping_rounds\n",
    "\n",
    "    )\n",
    "\n",
    "    # Final do treino\n",
    "    toc=timeit.default_timer()\n",
    "\n",
    "    print(\"[+] Training completed in\", int(toc-tic), \"seconds!\")\n",
    "\n",
    "    # Roc_score on the validation data\n",
    "    roc_score = roc_auc_score(val_label, model.predict(val_features), sample_weight=val_weights)\n",
    "\n",
    "    if roc_score > best_roc:\n",
    "        best_roc = roc_score\n",
    "\n",
    "        # Saving the model\n",
    "        model.save_model(\"XGBoost.model\")\n",
    "\n",
    "\n",
    "    return roc_auc_score(val_label , model.predict(val_features), sample_weight=val_weights)"
   ]
  },
  {
   "cell_type": "code",
   "execution_count": 7,
   "metadata": {
    "tags": [
     "outputPrepend"
    ]
   },
   "outputs": [
    {
     "output_type": "stream",
     "name": "stderr",
     "text": [
      "m\n",
      "[+] Starting training..\n",
      "[+] Training completed in 91 seconds!\n",
      "\u001b[32m[I 2021-02-17 12:26:01,989]\u001b[0m Trial 39 finished with value: 0.8993966987370483 and parameters: {'early_stopping_rounds': 12, 'n_estimators': 212, 'max_depth': 14, 'learning_rate': 0.04091664245382413}. Best is trial 32 with value: 0.9010040722973949.\u001b[0m\n",
      "[+] Starting training..\n",
      "[+] Training completed in 119 seconds!\n",
      "\u001b[32m[I 2021-02-17 12:28:12,103]\u001b[0m Trial 40 finished with value: 0.8844124081325271 and parameters: {'early_stopping_rounds': 4, 'n_estimators': 219, 'max_depth': 14, 'learning_rate': 0.003695229759474092}. Best is trial 32 with value: 0.9010040722973949.\u001b[0m\n",
      "[+] Starting training..\n",
      "[+] Training completed in 49 seconds!\n",
      "\u001b[32m[I 2021-02-17 12:29:08,296]\u001b[0m Trial 41 finished with value: 0.9024637540758014 and parameters: {'early_stopping_rounds': 12, 'n_estimators': 206, 'max_depth': 10, 'learning_rate': 0.04146681807561103}. Best is trial 41 with value: 0.9024637540758014.\u001b[0m\n",
      "[+] Starting training..\n",
      "[+] Training completed in 39 seconds!\n",
      "\u001b[32m[I 2021-02-17 12:29:53,174]\u001b[0m Trial 42 finished with value: 0.9034778209920517 and parameters: {'early_stopping_rounds': 13, 'n_estimators': 208, 'max_depth': 10, 'learning_rate': 0.09877042049611214}. Best is trial 42 with value: 0.9034778209920517.\u001b[0m\n",
      "[+] Starting training..\n",
      "[+] Training completed in 34 seconds!\n",
      "\u001b[32m[I 2021-02-17 12:30:32,199]\u001b[0m Trial 43 finished with value: 0.9030750004922878 and parameters: {'early_stopping_rounds': 13, 'n_estimators': 270, 'max_depth': 10, 'learning_rate': 0.09866026968461239}. Best is trial 42 with value: 0.9034778209920517.\u001b[0m\n",
      "[+] Starting training..\n",
      "[+] Training completed in 44 seconds!\n",
      "\u001b[32m[I 2021-02-17 12:31:21,920]\u001b[0m Trial 44 finished with value: 0.9049907033125185 and parameters: {'early_stopping_rounds': 13, 'n_estimators': 273, 'max_depth': 8, 'learning_rate': 0.0969072854062954}. Best is trial 44 with value: 0.9049907033125185.\u001b[0m\n",
      "[+] Starting training..\n",
      "[+] Training completed in 37 seconds!\n",
      "\u001b[32m[I 2021-02-17 12:32:04,543]\u001b[0m Trial 45 finished with value: 0.9054890875259752 and parameters: {'early_stopping_rounds': 15, 'n_estimators': 284, 'max_depth': 6, 'learning_rate': 0.0971725608447556}. Best is trial 45 with value: 0.9054890875259752.\u001b[0m\n",
      "[+] Starting training..\n",
      "[+] Training completed in 35 seconds!\n",
      "\u001b[32m[I 2021-02-17 12:32:44,325]\u001b[0m Trial 46 finished with value: 0.9035783907782893 and parameters: {'early_stopping_rounds': 16, 'n_estimators': 299, 'max_depth': 5, 'learning_rate': 0.0936912143270142}. Best is trial 45 with value: 0.9054890875259752.\u001b[0m\n",
      "[+] Starting training..\n",
      "[+] Training completed in 35 seconds!\n",
      "\u001b[32m[I 2021-02-17 12:33:23,649]\u001b[0m Trial 47 finished with value: 0.9030759935361728 and parameters: {'early_stopping_rounds': 16, 'n_estimators': 300, 'max_depth': 5, 'learning_rate': 0.09023208735336478}. Best is trial 45 with value: 0.9054890875259752.\u001b[0m\n",
      "[+] Starting training..\n",
      "[+] Training completed in 40 seconds!\n",
      "\u001b[32m[I 2021-02-17 12:34:09,709]\u001b[0m Trial 48 finished with value: 0.8377895155804096 and parameters: {'early_stopping_rounds': 19, 'n_estimators': 297, 'max_depth': 6, 'learning_rate': 1.179210620539706e-05}. Best is trial 45 with value: 0.9054890875259752.\u001b[0m\n",
      "[+] Starting training..\n",
      "[+] Training completed in 29 seconds!\n",
      "\u001b[32m[I 2021-02-17 12:34:43,087]\u001b[0m Trial 49 finished with value: 0.8996947860221767 and parameters: {'early_stopping_rounds': 18, 'n_estimators': 280, 'max_depth': 4, 'learning_rate': 0.09650167061983995}. Best is trial 45 with value: 0.9054890875259752.\u001b[0m\n",
      "[+] Starting training..\n",
      "[+] Training completed in 30 seconds!\n",
      "\u001b[32m[I 2021-02-17 12:35:18,087]\u001b[0m Trial 50 finished with value: 0.8670909314500576 and parameters: {'early_stopping_rounds': 16, 'n_estimators': 256, 'max_depth': 5, 'learning_rate': 0.012365432913018212}. Best is trial 45 with value: 0.9054890875259752.\u001b[0m\n",
      "[+] Starting training..\n",
      "[+] Training completed in 43 seconds!\n",
      "\u001b[32m[I 2021-02-17 12:36:07,281]\u001b[0m Trial 51 finished with value: 0.905115466648025 and parameters: {'early_stopping_rounds': 15, 'n_estimators': 278, 'max_depth': 8, 'learning_rate': 0.09375211577712309}. Best is trial 45 with value: 0.9054890875259752.\u001b[0m\n",
      "[+] Starting training..\n",
      "[+] Training completed in 47 seconds!\n",
      "\u001b[32m[I 2021-02-17 12:37:00,155]\u001b[0m Trial 52 finished with value: 0.9054285910586084 and parameters: {'early_stopping_rounds': 15, 'n_estimators': 284, 'max_depth': 8, 'learning_rate': 0.08070549964019526}. Best is trial 45 with value: 0.9054890875259752.\u001b[0m\n",
      "[+] Starting training..\n",
      "[+] Training completed in 48 seconds!\n",
      "\u001b[32m[I 2021-02-17 12:37:53,826]\u001b[0m Trial 53 finished with value: 0.9048875801746517 and parameters: {'early_stopping_rounds': 15, 'n_estimators': 282, 'max_depth': 8, 'learning_rate': 0.06855937987362998}. Best is trial 45 with value: 0.9054890875259752.\u001b[0m\n",
      "[+] Starting training..\n",
      "[+] Training completed in 42 seconds!\n",
      "\u001b[32m[I 2021-02-17 12:38:41,538]\u001b[0m Trial 54 finished with value: 0.9049051937489652 and parameters: {'early_stopping_rounds': 15, 'n_estimators': 283, 'max_depth': 7, 'learning_rate': 0.07346904142522212}. Best is trial 45 with value: 0.9054890875259752.\u001b[0m\n",
      "[+] Starting training..\n",
      "[+] Training completed in 48 seconds!\n",
      "\u001b[32m[I 2021-02-17 12:39:36,065]\u001b[0m Trial 55 finished with value: 0.9049694869559045 and parameters: {'early_stopping_rounds': 15, 'n_estimators': 282, 'max_depth': 8, 'learning_rate': 0.06677988558690687}. Best is trial 45 with value: 0.9054890875259752.\u001b[0m\n",
      "[+] Starting training..\n",
      "[+] Training completed in 40 seconds!\n",
      "\u001b[32m[I 2021-02-17 12:40:22,067]\u001b[0m Trial 56 finished with value: 0.8960043543343467 and parameters: {'early_stopping_rounds': 15, 'n_estimators': 264, 'max_depth': 7, 'learning_rate': 0.024335888981286267}. Best is trial 45 with value: 0.9054890875259752.\u001b[0m\n",
      "[+] Starting training..\n",
      "[+] Training completed in 51 seconds!\n",
      "\u001b[32m[I 2021-02-17 12:41:19,846]\u001b[0m Trial 57 finished with value: 0.8948977718494859 and parameters: {'early_stopping_rounds': 15, 'n_estimators': 285, 'max_depth': 8, 'learning_rate': 0.016856294609784567}. Best is trial 45 with value: 0.9054890875259752.\u001b[0m\n",
      "[+] Starting training..\n",
      "[+] Training completed in 36 seconds!\n",
      "\u001b[32m[I 2021-02-17 12:42:00,954]\u001b[0m Trial 58 finished with value: 0.9034021619416326 and parameters: {'early_stopping_rounds': 18, 'n_estimators': 241, 'max_depth': 7, 'learning_rate': 0.06673516326655377}. Best is trial 45 with value: 0.9054890875259752.\u001b[0m\n",
      "[+] Starting training..\n",
      "[+] Training completed in 25 seconds!\n",
      "\u001b[32m[I 2021-02-17 12:42:29,494]\u001b[0m Trial 59 finished with value: 0.8695723947384891 and parameters: {'early_stopping_rounds': 14, 'n_estimators': 253, 'max_depth': 3, 'learning_rate': 0.023694983124187777}. Best is trial 45 with value: 0.9054890875259752.\u001b[0m\n",
      "[+] Starting training..\n",
      "[+] Training completed in 55 seconds!\n",
      "\u001b[32m[I 2021-02-17 12:43:31,698]\u001b[0m Trial 60 finished with value: 0.9044220985692237 and parameters: {'early_stopping_rounds': 18, 'n_estimators': 287, 'max_depth': 9, 'learning_rate': 0.06656978094595882}. Best is trial 45 with value: 0.9054890875259752.\u001b[0m\n",
      "[+] Starting training..\n",
      "[+] Training completed in 46 seconds!\n",
      "\u001b[32m[I 2021-02-17 12:44:24,099]\u001b[0m Trial 61 finished with value: 0.9049342214720932 and parameters: {'early_stopping_rounds': 15, 'n_estimators': 276, 'max_depth': 8, 'learning_rate': 0.06749504729051722}. Best is trial 45 with value: 0.9054890875259752.\u001b[0m\n",
      "[+] Starting training..\n",
      "[+] Training completed in 36 seconds!\n",
      "\u001b[32m[I 2021-02-17 12:45:05,120]\u001b[0m Trial 62 finished with value: 0.8960849763250622 and parameters: {'early_stopping_rounds': 17, 'n_estimators': 272, 'max_depth': 6, 'learning_rate': 0.030809442113251182}. Best is trial 45 with value: 0.9054890875259752.\u001b[0m\n",
      "[+] Starting training..\n",
      "[+] Training completed in 48 seconds!\n",
      "\u001b[32m[I 2021-02-17 12:46:00,025]\u001b[0m Trial 63 finished with value: 0.9044812905414928 and parameters: {'early_stopping_rounds': 14, 'n_estimators': 247, 'max_depth': 9, 'learning_rate': 0.06603065376224675}. Best is trial 45 with value: 0.9054890875259752.\u001b[0m\n",
      "[+] Starting training..\n",
      "[+] Training completed in 48 seconds!\n",
      "\u001b[32m[I 2021-02-17 12:46:53,909]\u001b[0m Trial 64 finished with value: 0.8927970372033521 and parameters: {'early_stopping_rounds': 15, 'n_estimators': 266, 'max_depth': 8, 'learning_rate': 0.014709170421701265}. Best is trial 45 with value: 0.9054890875259752.\u001b[0m\n",
      "[+] Starting training..\n",
      "[+] Training completed in 43 seconds!\n",
      "\u001b[32m[I 2021-02-17 12:47:43,015]\u001b[0m Trial 65 finished with value: 0.8779007748932033 and parameters: {'early_stopping_rounds': 13, 'n_estimators': 276, 'max_depth': 7, 'learning_rate': 0.008620845523833236}. Best is trial 45 with value: 0.9054890875259752.\u001b[0m\n",
      "[+] Starting training..\n",
      "[+] Training completed in 63 seconds!\n",
      "\u001b[32m[I 2021-02-17 12:48:53,642]\u001b[0m Trial 66 finished with value: 0.9015930282304971 and parameters: {'early_stopping_rounds': 16, 'n_estimators': 226, 'max_depth': 11, 'learning_rate': 0.03115135801458136}. Best is trial 45 with value: 0.9054890875259752.\u001b[0m\n",
      "[+] Starting training..\n",
      "[+] Training completed in 39 seconds!\n",
      "\u001b[32m[I 2021-02-17 12:49:37,792]\u001b[0m Trial 67 finished with value: 0.8378041582743905 and parameters: {'early_stopping_rounds': 14, 'n_estimators': 290, 'max_depth': 6, 'learning_rate': 1.369765481207132e-06}. Best is trial 45 with value: 0.9054890875259752.\u001b[0m\n",
      "[+] Starting training..\n",
      "[+] Training completed in 3 seconds!\n",
      "\u001b[32m[I 2021-02-17 12:49:43,384]\u001b[0m Trial 68 finished with value: 0.8221179889429701 and parameters: {'early_stopping_rounds': 17, 'n_estimators': 5, 'max_depth': 4, 'learning_rate': 0.07185121147965468}. Best is trial 45 with value: 0.9054890875259752.\u001b[0m\n",
      "[+] Starting training..\n",
      "[+] Training completed in 39 seconds!\n",
      "\u001b[32m[I 2021-02-17 12:50:28,699]\u001b[0m Trial 69 finished with value: 0.8499732182719786 and parameters: {'early_stopping_rounds': 15, 'n_estimators': 259, 'max_depth': 7, 'learning_rate': 2.0342035964625103e-05}. Best is trial 45 with value: 0.9054890875259752.\u001b[0m\n",
      "[+] Starting training..\n",
      "[+] Training completed in 51 seconds!\n",
      "\u001b[32m[I 2021-02-17 12:51:27,079]\u001b[0m Trial 70 finished with value: 0.8963640847289958 and parameters: {'early_stopping_rounds': 13, 'n_estimators': 292, 'max_depth': 8, 'learning_rate': 0.01851748676193325}. Best is trial 45 with value: 0.9054890875259752.\u001b[0m\n",
      "[+] Starting training..\n",
      "[+] Training completed in 47 seconds!\n",
      "\u001b[32m[I 2021-02-17 12:52:19,963]\u001b[0m Trial 71 finished with value: 0.9038287619447909 and parameters: {'early_stopping_rounds': 15, 'n_estimators': 279, 'max_depth': 8, 'learning_rate': 0.05303422981247769}. Best is trial 45 with value: 0.9054890875259752.\u001b[0m\n",
      "[+] Starting training..\n",
      "[+] Training completed in 43 seconds!\n",
      "\u001b[32m[I 2021-02-17 12:53:08,518]\u001b[0m Trial 72 finished with value: 0.9028048770109215 and parameters: {'early_stopping_rounds': 16, 'n_estimators': 283, 'max_depth': 11, 'learning_rate': 0.07328464976995627}. Best is trial 45 with value: 0.9054890875259752.\u001b[0m\n",
      "[+] Starting training..\n",
      "[+] Training completed in 49 seconds!\n",
      "\u001b[32m[I 2021-02-17 12:54:03,899]\u001b[0m Trial 73 finished with value: 0.9038407547923486 and parameters: {'early_stopping_rounds': 14, 'n_estimators': 249, 'max_depth': 9, 'learning_rate': 0.05160011458315048}. Best is trial 45 with value: 0.9054890875259752.\u001b[0m\n",
      "[+] Starting training..\n",
      "[+] Training completed in 39 seconds!\n",
      "\u001b[32m[I 2021-02-17 12:54:48,527]\u001b[0m Trial 74 finished with value: 0.9054217828096581 and parameters: {'early_stopping_rounds': 15, 'n_estimators': 300, 'max_depth': 6, 'learning_rate': 0.0997304819282682}. Best is trial 45 with value: 0.9054890875259752.\u001b[0m\n",
      "[+] Starting training..\n",
      "[+] Training completed in 35 seconds!\n",
      "\u001b[32m[I 2021-02-17 12:55:28,562]\u001b[0m Trial 75 finished with value: 0.896381365873713 and parameters: {'early_stopping_rounds': 17, 'n_estimators': 262, 'max_depth': 6, 'learning_rate': 0.03237724258896443}. Best is trial 45 with value: 0.9054890875259752.\u001b[0m\n",
      "[+] Starting training..\n",
      "[+] Training completed in 34 seconds!\n",
      "\u001b[32m[I 2021-02-17 12:56:07,487]\u001b[0m Trial 76 finished with value: 0.9031557690090561 and parameters: {'early_stopping_rounds': 16, 'n_estimators': 299, 'max_depth': 5, 'learning_rate': 0.09038533812257472}. Best is trial 45 with value: 0.9054890875259752.\u001b[0m\n",
      "[+] Starting training..\n",
      "[+] Training completed in 29 seconds!\n",
      "\u001b[32m[I 2021-02-17 12:56:40,838]\u001b[0m Trial 77 finished with value: 0.8781453474636941 and parameters: {'early_stopping_rounds': 14, 'n_estimators': 273, 'max_depth': 4, 'learning_rate': 0.023082709068821542}. Best is trial 45 with value: 0.9054890875259752.\u001b[0m\n",
      "[+] Starting training..\n",
      "[+] Training completed in 30 seconds!\n",
      "\u001b[32m[I 2021-02-17 12:57:14,455]\u001b[0m Trial 78 finished with value: 0.7739789423447058 and parameters: {'early_stopping_rounds': 13, 'n_estimators': 293, 'max_depth': 3, 'learning_rate': 0.00024032018564335947}. Best is trial 45 with value: 0.9054890875259752.\u001b[0m\n",
      "[+] Starting training..\n",
      "[+] Training completed in 40 seconds!\n",
      "\u001b[32m[I 2021-02-17 12:57:59,856]\u001b[0m Trial 79 finished with value: 0.9007062293698231 and parameters: {'early_stopping_rounds': 15, 'n_estimators': 271, 'max_depth': 7, 'learning_rate': 0.04188396405220003}. Best is trial 45 with value: 0.9054890875259752.\u001b[0m\n",
      "[+] Starting training..\n",
      "[+] Training completed in 36 seconds!\n",
      "\u001b[32m[I 2021-02-17 12:58:40,401]\u001b[0m Trial 80 finished with value: 0.9040169219981284 and parameters: {'early_stopping_rounds': 14, 'n_estimators': 291, 'max_depth': 9, 'learning_rate': 0.09984413557736406}. Best is trial 45 with value: 0.9054890875259752.\u001b[0m\n",
      "[+] Starting training..\n",
      "[+] Training completed in 48 seconds!\n",
      "\u001b[32m[I 2021-02-17 12:59:35,466]\u001b[0m Trial 81 finished with value: 0.9050501657361762 and parameters: {'early_stopping_rounds': 15, 'n_estimators': 286, 'max_depth': 8, 'learning_rate': 0.06920251746015665}. Best is trial 45 with value: 0.9054890875259752.\u001b[0m\n",
      "[+] Starting training..\n",
      "[+] Training completed in 39 seconds!\n",
      "\u001b[32m[I 2021-02-17 13:00:19,564]\u001b[0m Trial 82 finished with value: 0.9013333199991334 and parameters: {'early_stopping_rounds': 16, 'n_estimators': 299, 'max_depth': 6, 'learning_rate': 0.05415470548593835}. Best is trial 45 with value: 0.9054890875259752.\u001b[0m\n",
      "[+] Starting training..\n",
      "[+] Training completed in 45 seconds!\n",
      "\u001b[32m[I 2021-02-17 13:01:11,005]\u001b[0m Trial 83 finished with value: 0.9010067350711889 and parameters: {'early_stopping_rounds': 17, 'n_estimators': 265, 'max_depth': 8, 'learning_rate': 0.03656922388063674}. Best is trial 45 with value: 0.9054890875259752.\u001b[0m\n",
      "[+] Starting training..\n",
      "[+] Training completed in 41 seconds!\n",
      "\u001b[32m[I 2021-02-17 13:01:58,130]\u001b[0m Trial 84 finished with value: 0.9058165794148045 and parameters: {'early_stopping_rounds': 15, 'n_estimators': 279, 'max_depth': 7, 'learning_rate': 0.09855613152137717}. Best is trial 84 with value: 0.9058165794148045.\u001b[0m\n",
      "[+] Starting training..\n",
      "[+] Training completed in 36 seconds!\n",
      "\u001b[32m[I 2021-02-17 13:02:38,361]\u001b[0m Trial 85 finished with value: 0.902524094037297 and parameters: {'early_stopping_rounds': 13, 'n_estimators': 246, 'max_depth': 11, 'learning_rate': 0.09909308737745619}. Best is trial 84 with value: 0.9058165794148045.\u001b[0m\n",
      "[+] Starting training..\n",
      "[+] Training completed in 54 seconds!\n",
      "\u001b[32m[I 2021-02-17 13:03:39,407]\u001b[0m Trial 86 finished with value: 0.904336567949736 and parameters: {'early_stopping_rounds': 15, 'n_estimators': 275, 'max_depth': 9, 'learning_rate': 0.053194145152140306}. Best is trial 84 with value: 0.9058165794148045.\u001b[0m\n",
      "[+] Starting training..\n",
      "[+] Training completed in 33 seconds!\n",
      "\u001b[32m[I 2021-02-17 13:04:18,171]\u001b[0m Trial 87 finished with value: 0.90490651053654 and parameters: {'early_stopping_rounds': 16, 'n_estimators': 254, 'max_depth': 6, 'learning_rate': 0.09918006300043085}. Best is trial 84 with value: 0.9058165794148045.\u001b[0m\n",
      "[+] Starting training..\n",
      "[+] Training completed in 27 seconds!\n",
      "\u001b[32m[I 2021-02-17 13:04:49,170]\u001b[0m Trial 88 finished with value: 0.887953845413836 and parameters: {'early_stopping_rounds': 14, 'n_estimators': 229, 'max_depth': 5, 'learning_rate': 0.027898391838545897}. Best is trial 84 with value: 0.9058165794148045.\u001b[0m\n",
      "[+] Starting training..\n",
      "[+] Training completed in 23 seconds!\n",
      "\u001b[32m[I 2021-02-17 13:05:15,626]\u001b[0m Trial 89 finished with value: 0.8832303849230704 and parameters: {'early_stopping_rounds': 11, 'n_estimators': 287, 'max_depth': 2, 'learning_rate': 0.07765700063910772}. Best is trial 84 with value: 0.9058165794148045.\u001b[0m\n",
      "[+] Starting training..\n",
      "[+] Training completed in 68 seconds!\n",
      "\u001b[32m[I 2021-02-17 13:06:31,448]\u001b[0m Trial 90 finished with value: 0.9031065518818922 and parameters: {'early_stopping_rounds': 15, 'n_estimators': 300, 'max_depth': 10, 'learning_rate': 0.03846888174777109}. Best is trial 84 with value: 0.9058165794148045.\u001b[0m\n",
      "[+] Starting training..\n",
      "[+] Training completed in 36 seconds!\n",
      "\u001b[32m[I 2021-02-17 13:07:12,091]\u001b[0m Trial 91 finished with value: 0.9047195179933463 and parameters: {'early_stopping_rounds': 16, 'n_estimators': 269, 'max_depth': 6, 'learning_rate': 0.09584237773007157}. Best is trial 84 with value: 0.9058165794148045.\u001b[0m\n",
      "[+] Starting training..\n",
      "[+] Training completed in 38 seconds!\n",
      "\u001b[32m[I 2021-02-17 13:07:55,571]\u001b[0m Trial 92 finished with value: 0.9044811185633217 and parameters: {'early_stopping_rounds': 17, 'n_estimators': 256, 'max_depth': 7, 'learning_rate': 0.07746776236441488}. Best is trial 84 with value: 0.9058165794148045.\u001b[0m\n",
      "[+] Starting training..\n",
      "[+] Training completed in 47 seconds!\n",
      "\u001b[32m[I 2021-02-17 13:08:48,542]\u001b[0m Trial 93 finished with value: 0.9044393182454225 and parameters: {'early_stopping_rounds': 16, 'n_estimators': 278, 'max_depth': 8, 'learning_rate': 0.059168147339024695}. Best is trial 84 with value: 0.9058165794148045.\u001b[0m\n",
      "[+] Starting training..\n",
      "[+] Training completed in 35 seconds!\n",
      "\u001b[32m[I 2021-02-17 13:09:27,964]\u001b[0m Trial 94 finished with value: 0.8986420402821823 and parameters: {'early_stopping_rounds': 14, 'n_estimators': 260, 'max_depth': 6, 'learning_rate': 0.04339088214502283}. Best is trial 84 with value: 0.9058165794148045.\u001b[0m\n",
      "[+] Starting training..\n",
      "[+] Training completed in 44 seconds!\n",
      "\u001b[32m[I 2021-02-17 13:10:17,721]\u001b[0m Trial 95 finished with value: 0.9058175413898218 and parameters: {'early_stopping_rounds': 15, 'n_estimators': 294, 'max_depth': 7, 'learning_rate': 0.09899312548652475}. Best is trial 95 with value: 0.9058175413898218.\u001b[0m\n",
      "[+] Starting training..\n",
      "[+] Training completed in 44 seconds!\n",
      "\u001b[32m[I 2021-02-17 13:11:07,385]\u001b[0m Trial 96 finished with value: 0.9053364118282357 and parameters: {'early_stopping_rounds': 15, 'n_estimators': 295, 'max_depth': 7, 'learning_rate': 0.07879246176622164}. Best is trial 95 with value: 0.9058175413898218.\u001b[0m\n",
      "[+] Starting training..\n",
      "[+] Training completed in 43 seconds!\n",
      "\u001b[32m[I 2021-02-17 13:11:56,017]\u001b[0m Trial 97 finished with value: 0.9020153274516574 and parameters: {'early_stopping_rounds': 14, 'n_estimators': 293, 'max_depth': 7, 'learning_rate': 0.04865232301806983}. Best is trial 95 with value: 0.9058175413898218.\u001b[0m\n",
      "[+] Starting training..\n",
      "[+] Training completed in 44 seconds!\n",
      "\u001b[32m[I 2021-02-17 13:12:46,747]\u001b[0m Trial 98 finished with value: 0.9042099735484798 and parameters: {'early_stopping_rounds': 18, 'n_estimators': 286, 'max_depth': 9, 'learning_rate': 0.08325061676946008}. Best is trial 95 with value: 0.9058175413898218.\u001b[0m\n",
      "[+] Starting training..\n",
      "[+] Training completed in 34 seconds!\n",
      "\u001b[32m[I 2021-02-17 13:13:25,433]\u001b[0m Trial 99 finished with value: 0.8997098704189515 and parameters: {'early_stopping_rounds': 13, 'n_estimators': 295, 'max_depth': 5, 'learning_rate': 0.060089930134580485}. Best is trial 95 with value: 0.9058175413898218.\u001b[0m\n",
      "Study statistics: \n",
      "  Number of finished trials:  100\n",
      "  Number of pruned trials:  0\n",
      "  Number of complete trials:  100\n",
      "Best trial:\n",
      "  Value:  0.9058175413898218\n",
      "  Params: \n",
      "    early_stopping_rounds: 15\n",
      "    n_estimators: 294\n",
      "    max_depth: 7\n",
      "    learning_rate: 0.09899312548652475\n"
     ]
    }
   ],
   "source": [
    "    study = optuna.create_study(study_name=\"Optimizing XGBoost Model\", direction=\"maximize\")\n",
    "    study.optimize(train_model, n_trials=100)#, timeout=3600)\n",
    "\n",
    "    pruned_trials = [t for t in study.trials if t.state == optuna.trial.TrialState.PRUNED]\n",
    "    complete_trials = [t for t in study.trials if t.state == optuna.trial.TrialState.COMPLETE]\n",
    "\n",
    "    print(\"Study statistics: \")\n",
    "    print(\"  Number of finished trials: \", len(study.trials))\n",
    "    print(\"  Number of pruned trials: \", len(pruned_trials))\n",
    "    print(\"  Number of complete trials: \", len(complete_trials))\n",
    "\n",
    "    print(\"Best trial:\")\n",
    "    trial = study.best_trial\n",
    "\n",
    "    print(\"  Value: \", trial.value)\n",
    "\n",
    "    print(\"  Params: \")\n",
    "    for key, value in trial.params.items():\n",
    "        print(\"    {}: {}\".format(key, value))"
   ]
  },
  {
   "cell_type": "code",
   "execution_count": 8,
   "metadata": {},
   "outputs": [
    {
     "output_type": "execute_result",
     "data": {
      "text/plain": [
       "['study_xgboost.pkl']"
      ]
     },
     "metadata": {},
     "execution_count": 8
    }
   ],
   "source": [
    "# Saving Study\n",
    "import joblib\n",
    "joblib.dump(study, \"study_xgboost.pkl\")"
   ]
  },
  {
   "source": [
    "## Optuna graphs"
   ],
   "cell_type": "markdown",
   "metadata": {}
  },
  {
   "cell_type": "code",
   "execution_count": 9,
   "metadata": {},
   "outputs": [],
   "source": [
    "import joblib\n",
    "study = joblib.load(\"study_xgboost.pkl\")"
   ]
  },
  {
   "cell_type": "code",
   "execution_count": 10,
   "metadata": {},
   "outputs": [
    {
     "output_type": "display_data",
     "data": {
      "application/vnd.plotly.v1+json": {
       "config": {
        "plotlyServerURL": "https://plot.ly"
       },
       "data": [
        {
         "cliponaxis": false,
         "hovertemplate": [
          "early_stopping_rounds (IntUniformDistribution): 0.01638987451599585<extra></extra>",
          "learning_rate (LogUniformDistribution): 0.1799518906076476<extra></extra>",
          "n_estimators (IntUniformDistribution): 0.34978068615823177<extra></extra>",
          "max_depth (IntUniformDistribution): 0.45387754871812475<extra></extra>"
         ],
         "marker": {
          "color": [
           "rgb(8,81,156)",
           "rgb(8,48,107)",
           "rgb(8,81,156)",
           "rgb(8,81,156)"
          ]
         },
         "orientation": "h",
         "text": [
          "0.01638987451599585",
          "0.1799518906076476",
          "0.34978068615823177",
          "0.45387754871812475"
         ],
         "textposition": "outside",
         "texttemplate": "%{text:.2f}",
         "type": "bar",
         "x": [
          0.01638987451599585,
          0.1799518906076476,
          0.34978068615823177,
          0.45387754871812475
         ],
         "y": [
          "early_stopping_rounds",
          "learning_rate",
          "n_estimators",
          "max_depth"
         ]
        }
       ],
       "layout": {
        "showlegend": false,
        "template": {
         "data": {
          "bar": [
           {
            "error_x": {
             "color": "#2a3f5f"
            },
            "error_y": {
             "color": "#2a3f5f"
            },
            "marker": {
             "line": {
              "color": "#E5ECF6",
              "width": 0.5
             }
            },
            "type": "bar"
           }
          ],
          "barpolar": [
           {
            "marker": {
             "line": {
              "color": "#E5ECF6",
              "width": 0.5
             }
            },
            "type": "barpolar"
           }
          ],
          "carpet": [
           {
            "aaxis": {
             "endlinecolor": "#2a3f5f",
             "gridcolor": "white",
             "linecolor": "white",
             "minorgridcolor": "white",
             "startlinecolor": "#2a3f5f"
            },
            "baxis": {
             "endlinecolor": "#2a3f5f",
             "gridcolor": "white",
             "linecolor": "white",
             "minorgridcolor": "white",
             "startlinecolor": "#2a3f5f"
            },
            "type": "carpet"
           }
          ],
          "choropleth": [
           {
            "colorbar": {
             "outlinewidth": 0,
             "ticks": ""
            },
            "type": "choropleth"
           }
          ],
          "contour": [
           {
            "colorbar": {
             "outlinewidth": 0,
             "ticks": ""
            },
            "colorscale": [
             [
              0,
              "#0d0887"
             ],
             [
              0.1111111111111111,
              "#46039f"
             ],
             [
              0.2222222222222222,
              "#7201a8"
             ],
             [
              0.3333333333333333,
              "#9c179e"
             ],
             [
              0.4444444444444444,
              "#bd3786"
             ],
             [
              0.5555555555555556,
              "#d8576b"
             ],
             [
              0.6666666666666666,
              "#ed7953"
             ],
             [
              0.7777777777777778,
              "#fb9f3a"
             ],
             [
              0.8888888888888888,
              "#fdca26"
             ],
             [
              1,
              "#f0f921"
             ]
            ],
            "type": "contour"
           }
          ],
          "contourcarpet": [
           {
            "colorbar": {
             "outlinewidth": 0,
             "ticks": ""
            },
            "type": "contourcarpet"
           }
          ],
          "heatmap": [
           {
            "colorbar": {
             "outlinewidth": 0,
             "ticks": ""
            },
            "colorscale": [
             [
              0,
              "#0d0887"
             ],
             [
              0.1111111111111111,
              "#46039f"
             ],
             [
              0.2222222222222222,
              "#7201a8"
             ],
             [
              0.3333333333333333,
              "#9c179e"
             ],
             [
              0.4444444444444444,
              "#bd3786"
             ],
             [
              0.5555555555555556,
              "#d8576b"
             ],
             [
              0.6666666666666666,
              "#ed7953"
             ],
             [
              0.7777777777777778,
              "#fb9f3a"
             ],
             [
              0.8888888888888888,
              "#fdca26"
             ],
             [
              1,
              "#f0f921"
             ]
            ],
            "type": "heatmap"
           }
          ],
          "heatmapgl": [
           {
            "colorbar": {
             "outlinewidth": 0,
             "ticks": ""
            },
            "colorscale": [
             [
              0,
              "#0d0887"
             ],
             [
              0.1111111111111111,
              "#46039f"
             ],
             [
              0.2222222222222222,
              "#7201a8"
             ],
             [
              0.3333333333333333,
              "#9c179e"
             ],
             [
              0.4444444444444444,
              "#bd3786"
             ],
             [
              0.5555555555555556,
              "#d8576b"
             ],
             [
              0.6666666666666666,
              "#ed7953"
             ],
             [
              0.7777777777777778,
              "#fb9f3a"
             ],
             [
              0.8888888888888888,
              "#fdca26"
             ],
             [
              1,
              "#f0f921"
             ]
            ],
            "type": "heatmapgl"
           }
          ],
          "histogram": [
           {
            "marker": {
             "colorbar": {
              "outlinewidth": 0,
              "ticks": ""
             }
            },
            "type": "histogram"
           }
          ],
          "histogram2d": [
           {
            "colorbar": {
             "outlinewidth": 0,
             "ticks": ""
            },
            "colorscale": [
             [
              0,
              "#0d0887"
             ],
             [
              0.1111111111111111,
              "#46039f"
             ],
             [
              0.2222222222222222,
              "#7201a8"
             ],
             [
              0.3333333333333333,
              "#9c179e"
             ],
             [
              0.4444444444444444,
              "#bd3786"
             ],
             [
              0.5555555555555556,
              "#d8576b"
             ],
             [
              0.6666666666666666,
              "#ed7953"
             ],
             [
              0.7777777777777778,
              "#fb9f3a"
             ],
             [
              0.8888888888888888,
              "#fdca26"
             ],
             [
              1,
              "#f0f921"
             ]
            ],
            "type": "histogram2d"
           }
          ],
          "histogram2dcontour": [
           {
            "colorbar": {
             "outlinewidth": 0,
             "ticks": ""
            },
            "colorscale": [
             [
              0,
              "#0d0887"
             ],
             [
              0.1111111111111111,
              "#46039f"
             ],
             [
              0.2222222222222222,
              "#7201a8"
             ],
             [
              0.3333333333333333,
              "#9c179e"
             ],
             [
              0.4444444444444444,
              "#bd3786"
             ],
             [
              0.5555555555555556,
              "#d8576b"
             ],
             [
              0.6666666666666666,
              "#ed7953"
             ],
             [
              0.7777777777777778,
              "#fb9f3a"
             ],
             [
              0.8888888888888888,
              "#fdca26"
             ],
             [
              1,
              "#f0f921"
             ]
            ],
            "type": "histogram2dcontour"
           }
          ],
          "mesh3d": [
           {
            "colorbar": {
             "outlinewidth": 0,
             "ticks": ""
            },
            "type": "mesh3d"
           }
          ],
          "parcoords": [
           {
            "line": {
             "colorbar": {
              "outlinewidth": 0,
              "ticks": ""
             }
            },
            "type": "parcoords"
           }
          ],
          "pie": [
           {
            "automargin": true,
            "type": "pie"
           }
          ],
          "scatter": [
           {
            "marker": {
             "colorbar": {
              "outlinewidth": 0,
              "ticks": ""
             }
            },
            "type": "scatter"
           }
          ],
          "scatter3d": [
           {
            "line": {
             "colorbar": {
              "outlinewidth": 0,
              "ticks": ""
             }
            },
            "marker": {
             "colorbar": {
              "outlinewidth": 0,
              "ticks": ""
             }
            },
            "type": "scatter3d"
           }
          ],
          "scattercarpet": [
           {
            "marker": {
             "colorbar": {
              "outlinewidth": 0,
              "ticks": ""
             }
            },
            "type": "scattercarpet"
           }
          ],
          "scattergeo": [
           {
            "marker": {
             "colorbar": {
              "outlinewidth": 0,
              "ticks": ""
             }
            },
            "type": "scattergeo"
           }
          ],
          "scattergl": [
           {
            "marker": {
             "colorbar": {
              "outlinewidth": 0,
              "ticks": ""
             }
            },
            "type": "scattergl"
           }
          ],
          "scattermapbox": [
           {
            "marker": {
             "colorbar": {
              "outlinewidth": 0,
              "ticks": ""
             }
            },
            "type": "scattermapbox"
           }
          ],
          "scatterpolar": [
           {
            "marker": {
             "colorbar": {
              "outlinewidth": 0,
              "ticks": ""
             }
            },
            "type": "scatterpolar"
           }
          ],
          "scatterpolargl": [
           {
            "marker": {
             "colorbar": {
              "outlinewidth": 0,
              "ticks": ""
             }
            },
            "type": "scatterpolargl"
           }
          ],
          "scatterternary": [
           {
            "marker": {
             "colorbar": {
              "outlinewidth": 0,
              "ticks": ""
             }
            },
            "type": "scatterternary"
           }
          ],
          "surface": [
           {
            "colorbar": {
             "outlinewidth": 0,
             "ticks": ""
            },
            "colorscale": [
             [
              0,
              "#0d0887"
             ],
             [
              0.1111111111111111,
              "#46039f"
             ],
             [
              0.2222222222222222,
              "#7201a8"
             ],
             [
              0.3333333333333333,
              "#9c179e"
             ],
             [
              0.4444444444444444,
              "#bd3786"
             ],
             [
              0.5555555555555556,
              "#d8576b"
             ],
             [
              0.6666666666666666,
              "#ed7953"
             ],
             [
              0.7777777777777778,
              "#fb9f3a"
             ],
             [
              0.8888888888888888,
              "#fdca26"
             ],
             [
              1,
              "#f0f921"
             ]
            ],
            "type": "surface"
           }
          ],
          "table": [
           {
            "cells": {
             "fill": {
              "color": "#EBF0F8"
             },
             "line": {
              "color": "white"
             }
            },
            "header": {
             "fill": {
              "color": "#C8D4E3"
             },
             "line": {
              "color": "white"
             }
            },
            "type": "table"
           }
          ]
         },
         "layout": {
          "annotationdefaults": {
           "arrowcolor": "#2a3f5f",
           "arrowhead": 0,
           "arrowwidth": 1
          },
          "autotypenumbers": "strict",
          "coloraxis": {
           "colorbar": {
            "outlinewidth": 0,
            "ticks": ""
           }
          },
          "colorscale": {
           "diverging": [
            [
             0,
             "#8e0152"
            ],
            [
             0.1,
             "#c51b7d"
            ],
            [
             0.2,
             "#de77ae"
            ],
            [
             0.3,
             "#f1b6da"
            ],
            [
             0.4,
             "#fde0ef"
            ],
            [
             0.5,
             "#f7f7f7"
            ],
            [
             0.6,
             "#e6f5d0"
            ],
            [
             0.7,
             "#b8e186"
            ],
            [
             0.8,
             "#7fbc41"
            ],
            [
             0.9,
             "#4d9221"
            ],
            [
             1,
             "#276419"
            ]
           ],
           "sequential": [
            [
             0,
             "#0d0887"
            ],
            [
             0.1111111111111111,
             "#46039f"
            ],
            [
             0.2222222222222222,
             "#7201a8"
            ],
            [
             0.3333333333333333,
             "#9c179e"
            ],
            [
             0.4444444444444444,
             "#bd3786"
            ],
            [
             0.5555555555555556,
             "#d8576b"
            ],
            [
             0.6666666666666666,
             "#ed7953"
            ],
            [
             0.7777777777777778,
             "#fb9f3a"
            ],
            [
             0.8888888888888888,
             "#fdca26"
            ],
            [
             1,
             "#f0f921"
            ]
           ],
           "sequentialminus": [
            [
             0,
             "#0d0887"
            ],
            [
             0.1111111111111111,
             "#46039f"
            ],
            [
             0.2222222222222222,
             "#7201a8"
            ],
            [
             0.3333333333333333,
             "#9c179e"
            ],
            [
             0.4444444444444444,
             "#bd3786"
            ],
            [
             0.5555555555555556,
             "#d8576b"
            ],
            [
             0.6666666666666666,
             "#ed7953"
            ],
            [
             0.7777777777777778,
             "#fb9f3a"
            ],
            [
             0.8888888888888888,
             "#fdca26"
            ],
            [
             1,
             "#f0f921"
            ]
           ]
          },
          "colorway": [
           "#636efa",
           "#EF553B",
           "#00cc96",
           "#ab63fa",
           "#FFA15A",
           "#19d3f3",
           "#FF6692",
           "#B6E880",
           "#FF97FF",
           "#FECB52"
          ],
          "font": {
           "color": "#2a3f5f"
          },
          "geo": {
           "bgcolor": "white",
           "lakecolor": "white",
           "landcolor": "#E5ECF6",
           "showlakes": true,
           "showland": true,
           "subunitcolor": "white"
          },
          "hoverlabel": {
           "align": "left"
          },
          "hovermode": "closest",
          "mapbox": {
           "style": "light"
          },
          "paper_bgcolor": "white",
          "plot_bgcolor": "#E5ECF6",
          "polar": {
           "angularaxis": {
            "gridcolor": "white",
            "linecolor": "white",
            "ticks": ""
           },
           "bgcolor": "#E5ECF6",
           "radialaxis": {
            "gridcolor": "white",
            "linecolor": "white",
            "ticks": ""
           }
          },
          "scene": {
           "xaxis": {
            "backgroundcolor": "#E5ECF6",
            "gridcolor": "white",
            "gridwidth": 2,
            "linecolor": "white",
            "showbackground": true,
            "ticks": "",
            "zerolinecolor": "white"
           },
           "yaxis": {
            "backgroundcolor": "#E5ECF6",
            "gridcolor": "white",
            "gridwidth": 2,
            "linecolor": "white",
            "showbackground": true,
            "ticks": "",
            "zerolinecolor": "white"
           },
           "zaxis": {
            "backgroundcolor": "#E5ECF6",
            "gridcolor": "white",
            "gridwidth": 2,
            "linecolor": "white",
            "showbackground": true,
            "ticks": "",
            "zerolinecolor": "white"
           }
          },
          "shapedefaults": {
           "line": {
            "color": "#2a3f5f"
           }
          },
          "ternary": {
           "aaxis": {
            "gridcolor": "white",
            "linecolor": "white",
            "ticks": ""
           },
           "baxis": {
            "gridcolor": "white",
            "linecolor": "white",
            "ticks": ""
           },
           "bgcolor": "#E5ECF6",
           "caxis": {
            "gridcolor": "white",
            "linecolor": "white",
            "ticks": ""
           }
          },
          "title": {
           "x": 0.05
          },
          "xaxis": {
           "automargin": true,
           "gridcolor": "white",
           "linecolor": "white",
           "ticks": "",
           "title": {
            "standoff": 15
           },
           "zerolinecolor": "white",
           "zerolinewidth": 2
          },
          "yaxis": {
           "automargin": true,
           "gridcolor": "white",
           "linecolor": "white",
           "ticks": "",
           "title": {
            "standoff": 15
           },
           "zerolinecolor": "white",
           "zerolinewidth": 2
          }
         }
        },
        "title": {
         "text": "Hyperparameter Importances"
        },
        "xaxis": {
         "title": {
          "text": "Importance for Objective Value"
         }
        },
        "yaxis": {
         "title": {
          "text": "Hyperparameter"
         }
        }
       }
      }
     },
     "metadata": {}
    }
   ],
   "source": [
    "optuna.visualization.plot_param_importances(study)"
   ]
  },
  {
   "cell_type": "code",
   "execution_count": 11,
   "metadata": {},
   "outputs": [
    {
     "output_type": "display_data",
     "data": {
      "application/vnd.plotly.v1+json": {
       "config": {
        "plotlyServerURL": "https://plot.ly"
       },
       "data": [
        {
         "mode": "markers",
         "name": "Objective Value",
         "type": "scatter",
         "x": [
          0,
          1,
          2,
          3,
          4,
          5,
          6,
          7,
          8,
          9,
          10,
          11,
          12,
          13,
          14,
          15,
          16,
          17,
          18,
          19,
          20,
          21,
          22,
          23,
          24,
          25,
          26,
          27,
          28,
          29,
          30,
          31,
          32,
          33,
          34,
          35,
          36,
          37,
          38,
          39,
          40,
          41,
          42,
          43,
          44,
          45,
          46,
          47,
          48,
          49,
          50,
          51,
          52,
          53,
          54,
          55,
          56,
          57,
          58,
          59,
          60,
          61,
          62,
          63,
          64,
          65,
          66,
          67,
          68,
          69,
          70,
          71,
          72,
          73,
          74,
          75,
          76,
          77,
          78,
          79,
          80,
          81,
          82,
          83,
          84,
          85,
          86,
          87,
          88,
          89,
          90,
          91,
          92,
          93,
          94,
          95,
          96,
          97,
          98,
          99
         ],
         "y": [
          0.7408044594685969,
          0.8696760444738701,
          0.8748158697976485,
          0.8583728955387115,
          0.8771247017281234,
          0.8717244298512676,
          0.8697914255969756,
          0.8377972032953244,
          0.8497551710126888,
          0.8786269629468587,
          0.8669667147942964,
          0.8752253639305962,
          0.8909656838484207,
          0.8873121870410243,
          0.8814431736540901,
          0.8709334069918359,
          0.8754356667768005,
          0.8956004361007496,
          0.8732969532875362,
          0.8871042457734674,
          0.8590907701033362,
          0.8942946178462386,
          0.896404346552296,
          0.8984760319971429,
          0.8894323315175395,
          0.881648726744325,
          0.8670443416286135,
          0.8920229248898917,
          0.8909986531056346,
          0.8625187326508919,
          0.8218301424879346,
          0.887862173888006,
          0.9010040722973949,
          0.8992883408417872,
          0.8968865086331135,
          0.8968553690757572,
          0.8991566757035733,
          0.7408066352681589,
          0.8863576490168757,
          0.8993966987370483,
          0.8844124081325271,
          0.9024637540758014,
          0.9034778209920517,
          0.9030750004922878,
          0.9049907033125185,
          0.9054890875259752,
          0.9035783907782893,
          0.9030759935361728,
          0.8377895155804096,
          0.8996947860221767,
          0.8670909314500576,
          0.905115466648025,
          0.9054285910586084,
          0.9048875801746517,
          0.9049051937489652,
          0.9049694869559045,
          0.8960043543343467,
          0.8948977718494859,
          0.9034021619416326,
          0.8695723947384891,
          0.9044220985692237,
          0.9049342214720932,
          0.8960849763250622,
          0.9044812905414928,
          0.8927970372033521,
          0.8779007748932033,
          0.9015930282304971,
          0.8378041582743905,
          0.8221179889429701,
          0.8499732182719786,
          0.8963640847289958,
          0.9038287619447909,
          0.9028048770109215,
          0.9038407547923486,
          0.9054217828096581,
          0.896381365873713,
          0.9031557690090561,
          0.8781453474636941,
          0.7739789423447058,
          0.9007062293698231,
          0.9040169219981284,
          0.9050501657361762,
          0.9013333199991334,
          0.9010067350711889,
          0.9058165794148045,
          0.902524094037297,
          0.904336567949736,
          0.90490651053654,
          0.887953845413836,
          0.8832303849230704,
          0.9031065518818922,
          0.9047195179933463,
          0.9044811185633217,
          0.9044393182454225,
          0.8986420402821823,
          0.9058175413898218,
          0.9053364118282357,
          0.9020153274516574,
          0.9042099735484798,
          0.8997098704189515
         ]
        },
        {
         "name": "Best Value",
         "type": "scatter",
         "x": [
          0,
          1,
          2,
          3,
          4,
          5,
          6,
          7,
          8,
          9,
          10,
          11,
          12,
          13,
          14,
          15,
          16,
          17,
          18,
          19,
          20,
          21,
          22,
          23,
          24,
          25,
          26,
          27,
          28,
          29,
          30,
          31,
          32,
          33,
          34,
          35,
          36,
          37,
          38,
          39,
          40,
          41,
          42,
          43,
          44,
          45,
          46,
          47,
          48,
          49,
          50,
          51,
          52,
          53,
          54,
          55,
          56,
          57,
          58,
          59,
          60,
          61,
          62,
          63,
          64,
          65,
          66,
          67,
          68,
          69,
          70,
          71,
          72,
          73,
          74,
          75,
          76,
          77,
          78,
          79,
          80,
          81,
          82,
          83,
          84,
          85,
          86,
          87,
          88,
          89,
          90,
          91,
          92,
          93,
          94,
          95,
          96,
          97,
          98,
          99
         ],
         "y": [
          0.7408044594685969,
          0.8696760444738701,
          0.8748158697976485,
          0.8748158697976485,
          0.8771247017281234,
          0.8771247017281234,
          0.8771247017281234,
          0.8771247017281234,
          0.8771247017281234,
          0.8786269629468587,
          0.8786269629468587,
          0.8786269629468587,
          0.8909656838484207,
          0.8909656838484207,
          0.8909656838484207,
          0.8909656838484207,
          0.8909656838484207,
          0.8956004361007496,
          0.8956004361007496,
          0.8956004361007496,
          0.8956004361007496,
          0.8956004361007496,
          0.896404346552296,
          0.8984760319971429,
          0.8984760319971429,
          0.8984760319971429,
          0.8984760319971429,
          0.8984760319971429,
          0.8984760319971429,
          0.8984760319971429,
          0.8984760319971429,
          0.8984760319971429,
          0.9010040722973949,
          0.9010040722973949,
          0.9010040722973949,
          0.9010040722973949,
          0.9010040722973949,
          0.9010040722973949,
          0.9010040722973949,
          0.9010040722973949,
          0.9010040722973949,
          0.9024637540758014,
          0.9034778209920517,
          0.9034778209920517,
          0.9049907033125185,
          0.9054890875259752,
          0.9054890875259752,
          0.9054890875259752,
          0.9054890875259752,
          0.9054890875259752,
          0.9054890875259752,
          0.9054890875259752,
          0.9054890875259752,
          0.9054890875259752,
          0.9054890875259752,
          0.9054890875259752,
          0.9054890875259752,
          0.9054890875259752,
          0.9054890875259752,
          0.9054890875259752,
          0.9054890875259752,
          0.9054890875259752,
          0.9054890875259752,
          0.9054890875259752,
          0.9054890875259752,
          0.9054890875259752,
          0.9054890875259752,
          0.9054890875259752,
          0.9054890875259752,
          0.9054890875259752,
          0.9054890875259752,
          0.9054890875259752,
          0.9054890875259752,
          0.9054890875259752,
          0.9054890875259752,
          0.9054890875259752,
          0.9054890875259752,
          0.9054890875259752,
          0.9054890875259752,
          0.9054890875259752,
          0.9054890875259752,
          0.9054890875259752,
          0.9054890875259752,
          0.9054890875259752,
          0.9058165794148045,
          0.9058165794148045,
          0.9058165794148045,
          0.9058165794148045,
          0.9058165794148045,
          0.9058165794148045,
          0.9058165794148045,
          0.9058165794148045,
          0.9058165794148045,
          0.9058165794148045,
          0.9058165794148045,
          0.9058175413898218,
          0.9058175413898218,
          0.9058175413898218,
          0.9058175413898218,
          0.9058175413898218
         ]
        }
       ],
       "layout": {
        "template": {
         "data": {
          "bar": [
           {
            "error_x": {
             "color": "#2a3f5f"
            },
            "error_y": {
             "color": "#2a3f5f"
            },
            "marker": {
             "line": {
              "color": "#E5ECF6",
              "width": 0.5
             }
            },
            "type": "bar"
           }
          ],
          "barpolar": [
           {
            "marker": {
             "line": {
              "color": "#E5ECF6",
              "width": 0.5
             }
            },
            "type": "barpolar"
           }
          ],
          "carpet": [
           {
            "aaxis": {
             "endlinecolor": "#2a3f5f",
             "gridcolor": "white",
             "linecolor": "white",
             "minorgridcolor": "white",
             "startlinecolor": "#2a3f5f"
            },
            "baxis": {
             "endlinecolor": "#2a3f5f",
             "gridcolor": "white",
             "linecolor": "white",
             "minorgridcolor": "white",
             "startlinecolor": "#2a3f5f"
            },
            "type": "carpet"
           }
          ],
          "choropleth": [
           {
            "colorbar": {
             "outlinewidth": 0,
             "ticks": ""
            },
            "type": "choropleth"
           }
          ],
          "contour": [
           {
            "colorbar": {
             "outlinewidth": 0,
             "ticks": ""
            },
            "colorscale": [
             [
              0,
              "#0d0887"
             ],
             [
              0.1111111111111111,
              "#46039f"
             ],
             [
              0.2222222222222222,
              "#7201a8"
             ],
             [
              0.3333333333333333,
              "#9c179e"
             ],
             [
              0.4444444444444444,
              "#bd3786"
             ],
             [
              0.5555555555555556,
              "#d8576b"
             ],
             [
              0.6666666666666666,
              "#ed7953"
             ],
             [
              0.7777777777777778,
              "#fb9f3a"
             ],
             [
              0.8888888888888888,
              "#fdca26"
             ],
             [
              1,
              "#f0f921"
             ]
            ],
            "type": "contour"
           }
          ],
          "contourcarpet": [
           {
            "colorbar": {
             "outlinewidth": 0,
             "ticks": ""
            },
            "type": "contourcarpet"
           }
          ],
          "heatmap": [
           {
            "colorbar": {
             "outlinewidth": 0,
             "ticks": ""
            },
            "colorscale": [
             [
              0,
              "#0d0887"
             ],
             [
              0.1111111111111111,
              "#46039f"
             ],
             [
              0.2222222222222222,
              "#7201a8"
             ],
             [
              0.3333333333333333,
              "#9c179e"
             ],
             [
              0.4444444444444444,
              "#bd3786"
             ],
             [
              0.5555555555555556,
              "#d8576b"
             ],
             [
              0.6666666666666666,
              "#ed7953"
             ],
             [
              0.7777777777777778,
              "#fb9f3a"
             ],
             [
              0.8888888888888888,
              "#fdca26"
             ],
             [
              1,
              "#f0f921"
             ]
            ],
            "type": "heatmap"
           }
          ],
          "heatmapgl": [
           {
            "colorbar": {
             "outlinewidth": 0,
             "ticks": ""
            },
            "colorscale": [
             [
              0,
              "#0d0887"
             ],
             [
              0.1111111111111111,
              "#46039f"
             ],
             [
              0.2222222222222222,
              "#7201a8"
             ],
             [
              0.3333333333333333,
              "#9c179e"
             ],
             [
              0.4444444444444444,
              "#bd3786"
             ],
             [
              0.5555555555555556,
              "#d8576b"
             ],
             [
              0.6666666666666666,
              "#ed7953"
             ],
             [
              0.7777777777777778,
              "#fb9f3a"
             ],
             [
              0.8888888888888888,
              "#fdca26"
             ],
             [
              1,
              "#f0f921"
             ]
            ],
            "type": "heatmapgl"
           }
          ],
          "histogram": [
           {
            "marker": {
             "colorbar": {
              "outlinewidth": 0,
              "ticks": ""
             }
            },
            "type": "histogram"
           }
          ],
          "histogram2d": [
           {
            "colorbar": {
             "outlinewidth": 0,
             "ticks": ""
            },
            "colorscale": [
             [
              0,
              "#0d0887"
             ],
             [
              0.1111111111111111,
              "#46039f"
             ],
             [
              0.2222222222222222,
              "#7201a8"
             ],
             [
              0.3333333333333333,
              "#9c179e"
             ],
             [
              0.4444444444444444,
              "#bd3786"
             ],
             [
              0.5555555555555556,
              "#d8576b"
             ],
             [
              0.6666666666666666,
              "#ed7953"
             ],
             [
              0.7777777777777778,
              "#fb9f3a"
             ],
             [
              0.8888888888888888,
              "#fdca26"
             ],
             [
              1,
              "#f0f921"
             ]
            ],
            "type": "histogram2d"
           }
          ],
          "histogram2dcontour": [
           {
            "colorbar": {
             "outlinewidth": 0,
             "ticks": ""
            },
            "colorscale": [
             [
              0,
              "#0d0887"
             ],
             [
              0.1111111111111111,
              "#46039f"
             ],
             [
              0.2222222222222222,
              "#7201a8"
             ],
             [
              0.3333333333333333,
              "#9c179e"
             ],
             [
              0.4444444444444444,
              "#bd3786"
             ],
             [
              0.5555555555555556,
              "#d8576b"
             ],
             [
              0.6666666666666666,
              "#ed7953"
             ],
             [
              0.7777777777777778,
              "#fb9f3a"
             ],
             [
              0.8888888888888888,
              "#fdca26"
             ],
             [
              1,
              "#f0f921"
             ]
            ],
            "type": "histogram2dcontour"
           }
          ],
          "mesh3d": [
           {
            "colorbar": {
             "outlinewidth": 0,
             "ticks": ""
            },
            "type": "mesh3d"
           }
          ],
          "parcoords": [
           {
            "line": {
             "colorbar": {
              "outlinewidth": 0,
              "ticks": ""
             }
            },
            "type": "parcoords"
           }
          ],
          "pie": [
           {
            "automargin": true,
            "type": "pie"
           }
          ],
          "scatter": [
           {
            "marker": {
             "colorbar": {
              "outlinewidth": 0,
              "ticks": ""
             }
            },
            "type": "scatter"
           }
          ],
          "scatter3d": [
           {
            "line": {
             "colorbar": {
              "outlinewidth": 0,
              "ticks": ""
             }
            },
            "marker": {
             "colorbar": {
              "outlinewidth": 0,
              "ticks": ""
             }
            },
            "type": "scatter3d"
           }
          ],
          "scattercarpet": [
           {
            "marker": {
             "colorbar": {
              "outlinewidth": 0,
              "ticks": ""
             }
            },
            "type": "scattercarpet"
           }
          ],
          "scattergeo": [
           {
            "marker": {
             "colorbar": {
              "outlinewidth": 0,
              "ticks": ""
             }
            },
            "type": "scattergeo"
           }
          ],
          "scattergl": [
           {
            "marker": {
             "colorbar": {
              "outlinewidth": 0,
              "ticks": ""
             }
            },
            "type": "scattergl"
           }
          ],
          "scattermapbox": [
           {
            "marker": {
             "colorbar": {
              "outlinewidth": 0,
              "ticks": ""
             }
            },
            "type": "scattermapbox"
           }
          ],
          "scatterpolar": [
           {
            "marker": {
             "colorbar": {
              "outlinewidth": 0,
              "ticks": ""
             }
            },
            "type": "scatterpolar"
           }
          ],
          "scatterpolargl": [
           {
            "marker": {
             "colorbar": {
              "outlinewidth": 0,
              "ticks": ""
             }
            },
            "type": "scatterpolargl"
           }
          ],
          "scatterternary": [
           {
            "marker": {
             "colorbar": {
              "outlinewidth": 0,
              "ticks": ""
             }
            },
            "type": "scatterternary"
           }
          ],
          "surface": [
           {
            "colorbar": {
             "outlinewidth": 0,
             "ticks": ""
            },
            "colorscale": [
             [
              0,
              "#0d0887"
             ],
             [
              0.1111111111111111,
              "#46039f"
             ],
             [
              0.2222222222222222,
              "#7201a8"
             ],
             [
              0.3333333333333333,
              "#9c179e"
             ],
             [
              0.4444444444444444,
              "#bd3786"
             ],
             [
              0.5555555555555556,
              "#d8576b"
             ],
             [
              0.6666666666666666,
              "#ed7953"
             ],
             [
              0.7777777777777778,
              "#fb9f3a"
             ],
             [
              0.8888888888888888,
              "#fdca26"
             ],
             [
              1,
              "#f0f921"
             ]
            ],
            "type": "surface"
           }
          ],
          "table": [
           {
            "cells": {
             "fill": {
              "color": "#EBF0F8"
             },
             "line": {
              "color": "white"
             }
            },
            "header": {
             "fill": {
              "color": "#C8D4E3"
             },
             "line": {
              "color": "white"
             }
            },
            "type": "table"
           }
          ]
         },
         "layout": {
          "annotationdefaults": {
           "arrowcolor": "#2a3f5f",
           "arrowhead": 0,
           "arrowwidth": 1
          },
          "autotypenumbers": "strict",
          "coloraxis": {
           "colorbar": {
            "outlinewidth": 0,
            "ticks": ""
           }
          },
          "colorscale": {
           "diverging": [
            [
             0,
             "#8e0152"
            ],
            [
             0.1,
             "#c51b7d"
            ],
            [
             0.2,
             "#de77ae"
            ],
            [
             0.3,
             "#f1b6da"
            ],
            [
             0.4,
             "#fde0ef"
            ],
            [
             0.5,
             "#f7f7f7"
            ],
            [
             0.6,
             "#e6f5d0"
            ],
            [
             0.7,
             "#b8e186"
            ],
            [
             0.8,
             "#7fbc41"
            ],
            [
             0.9,
             "#4d9221"
            ],
            [
             1,
             "#276419"
            ]
           ],
           "sequential": [
            [
             0,
             "#0d0887"
            ],
            [
             0.1111111111111111,
             "#46039f"
            ],
            [
             0.2222222222222222,
             "#7201a8"
            ],
            [
             0.3333333333333333,
             "#9c179e"
            ],
            [
             0.4444444444444444,
             "#bd3786"
            ],
            [
             0.5555555555555556,
             "#d8576b"
            ],
            [
             0.6666666666666666,
             "#ed7953"
            ],
            [
             0.7777777777777778,
             "#fb9f3a"
            ],
            [
             0.8888888888888888,
             "#fdca26"
            ],
            [
             1,
             "#f0f921"
            ]
           ],
           "sequentialminus": [
            [
             0,
             "#0d0887"
            ],
            [
             0.1111111111111111,
             "#46039f"
            ],
            [
             0.2222222222222222,
             "#7201a8"
            ],
            [
             0.3333333333333333,
             "#9c179e"
            ],
            [
             0.4444444444444444,
             "#bd3786"
            ],
            [
             0.5555555555555556,
             "#d8576b"
            ],
            [
             0.6666666666666666,
             "#ed7953"
            ],
            [
             0.7777777777777778,
             "#fb9f3a"
            ],
            [
             0.8888888888888888,
             "#fdca26"
            ],
            [
             1,
             "#f0f921"
            ]
           ]
          },
          "colorway": [
           "#636efa",
           "#EF553B",
           "#00cc96",
           "#ab63fa",
           "#FFA15A",
           "#19d3f3",
           "#FF6692",
           "#B6E880",
           "#FF97FF",
           "#FECB52"
          ],
          "font": {
           "color": "#2a3f5f"
          },
          "geo": {
           "bgcolor": "white",
           "lakecolor": "white",
           "landcolor": "#E5ECF6",
           "showlakes": true,
           "showland": true,
           "subunitcolor": "white"
          },
          "hoverlabel": {
           "align": "left"
          },
          "hovermode": "closest",
          "mapbox": {
           "style": "light"
          },
          "paper_bgcolor": "white",
          "plot_bgcolor": "#E5ECF6",
          "polar": {
           "angularaxis": {
            "gridcolor": "white",
            "linecolor": "white",
            "ticks": ""
           },
           "bgcolor": "#E5ECF6",
           "radialaxis": {
            "gridcolor": "white",
            "linecolor": "white",
            "ticks": ""
           }
          },
          "scene": {
           "xaxis": {
            "backgroundcolor": "#E5ECF6",
            "gridcolor": "white",
            "gridwidth": 2,
            "linecolor": "white",
            "showbackground": true,
            "ticks": "",
            "zerolinecolor": "white"
           },
           "yaxis": {
            "backgroundcolor": "#E5ECF6",
            "gridcolor": "white",
            "gridwidth": 2,
            "linecolor": "white",
            "showbackground": true,
            "ticks": "",
            "zerolinecolor": "white"
           },
           "zaxis": {
            "backgroundcolor": "#E5ECF6",
            "gridcolor": "white",
            "gridwidth": 2,
            "linecolor": "white",
            "showbackground": true,
            "ticks": "",
            "zerolinecolor": "white"
           }
          },
          "shapedefaults": {
           "line": {
            "color": "#2a3f5f"
           }
          },
          "ternary": {
           "aaxis": {
            "gridcolor": "white",
            "linecolor": "white",
            "ticks": ""
           },
           "baxis": {
            "gridcolor": "white",
            "linecolor": "white",
            "ticks": ""
           },
           "bgcolor": "#E5ECF6",
           "caxis": {
            "gridcolor": "white",
            "linecolor": "white",
            "ticks": ""
           }
          },
          "title": {
           "x": 0.05
          },
          "xaxis": {
           "automargin": true,
           "gridcolor": "white",
           "linecolor": "white",
           "ticks": "",
           "title": {
            "standoff": 15
           },
           "zerolinecolor": "white",
           "zerolinewidth": 2
          },
          "yaxis": {
           "automargin": true,
           "gridcolor": "white",
           "linecolor": "white",
           "ticks": "",
           "title": {
            "standoff": 15
           },
           "zerolinecolor": "white",
           "zerolinewidth": 2
          }
         }
        },
        "title": {
         "text": "Optimization History Plot"
        },
        "xaxis": {
         "title": {
          "text": "#Trials"
         }
        },
        "yaxis": {
         "title": {
          "text": "Objective Value"
         }
        }
       }
      }
     },
     "metadata": {}
    }
   ],
   "source": [
    "optuna.visualization.plot_optimization_history(study)"
   ]
  },
  {
   "source": [
    "## Testing the model"
   ],
   "cell_type": "markdown",
   "metadata": {}
  },
  {
   "cell_type": "code",
   "execution_count": 12,
   "metadata": {},
   "outputs": [],
   "source": [
    "model = define_model(trial)"
   ]
  },
  {
   "cell_type": "code",
   "execution_count": 13,
   "metadata": {},
   "outputs": [],
   "source": [
    "model.load_model(\"XGBoost.model\")"
   ]
  },
  {
   "cell_type": "code",
   "execution_count": 14,
   "metadata": {},
   "outputs": [
    {
     "output_type": "stream",
     "name": "stdout",
     "text": [
      "[+] Loading Data..\n",
      "[+] Data Loaded in 8 seconds!\n"
     ]
    }
   ],
   "source": [
    "# Loading test data\n",
    "_, test_features, test_label, test_weights, _ = next(create_batch(data_loader(data='test')))\n",
    "\n",
    "# Passar a matriz\n",
    "#test = xgb.DMatrix(test_features)\n"
   ]
  },
  {
   "cell_type": "code",
   "execution_count": 15,
   "metadata": {},
   "outputs": [],
   "source": [
    "# Predictions\n",
    "\n",
    "predictions = model.predict(test_features)#.predict_proba(test_features)"
   ]
  },
  {
   "cell_type": "code",
   "execution_count": 16,
   "metadata": {},
   "outputs": [
    {
     "output_type": "execute_result",
     "data": {
      "text/plain": [
       "array([0, 0, 0, ..., 0, 0, 0])"
      ]
     },
     "metadata": {},
     "execution_count": 16
    }
   ],
   "source": [
    "predictions"
   ]
  },
  {
   "cell_type": "code",
   "execution_count": 17,
   "metadata": {},
   "outputs": [
    {
     "output_type": "execute_result",
     "data": {
      "text/plain": [
       "array([[1362011,    8847],\n",
       "       [  81283,   57731]])"
      ]
     },
     "metadata": {},
     "execution_count": 17
    }
   ],
   "source": [
    "confusion_matrix(predictions, test_label)"
   ]
  },
  {
   "cell_type": "code",
   "execution_count": 18,
   "metadata": {},
   "outputs": [
    {
     "output_type": "display_data",
     "data": {
      "text/plain": "<Figure size 432x288 with 1 Axes>",
      "image/svg+xml": "<?xml version=\"1.0\" encoding=\"utf-8\" standalone=\"no\"?>\n<!DOCTYPE svg PUBLIC \"-//W3C//DTD SVG 1.1//EN\"\n  \"http://www.w3.org/Graphics/SVG/1.1/DTD/svg11.dtd\">\n<!-- Created with matplotlib (https://matplotlib.org/) -->\n<svg height=\"248.518125pt\" version=\"1.1\" viewBox=\"0 0 372.103125 248.518125\" width=\"372.103125pt\" xmlns=\"http://www.w3.org/2000/svg\" xmlns:xlink=\"http://www.w3.org/1999/xlink\">\n <metadata>\n  <rdf:RDF xmlns:cc=\"http://creativecommons.org/ns#\" xmlns:dc=\"http://purl.org/dc/elements/1.1/\" xmlns:rdf=\"http://www.w3.org/1999/02/22-rdf-syntax-ns#\">\n   <cc:Work>\n    <dc:type rdf:resource=\"http://purl.org/dc/dcmitype/StillImage\"/>\n    <dc:date>2021-02-17T13:13:41.385425</dc:date>\n    <dc:format>image/svg+xml</dc:format>\n    <dc:creator>\n     <cc:Agent>\n      <dc:title>Matplotlib v3.3.3, https://matplotlib.org/</dc:title>\n     </cc:Agent>\n    </dc:creator>\n   </cc:Work>\n  </rdf:RDF>\n </metadata>\n <defs>\n  <style type=\"text/css\">*{stroke-linecap:butt;stroke-linejoin:round;}</style>\n </defs>\n <g id=\"figure_1\">\n  <g id=\"patch_1\">\n   <path d=\"M 0 248.518125 \nL 372.103125 248.518125 \nL 372.103125 0 \nL 0 0 \nz\n\" style=\"fill:none;\"/>\n  </g>\n  <g id=\"axes_1\">\n   <g id=\"patch_2\">\n    <path d=\"M 30.103125 224.64 \nL 364.903125 224.64 \nL 364.903125 7.2 \nL 30.103125 7.2 \nz\n\" style=\"fill:#ffffff;\"/>\n   </g>\n   <g id=\"matplotlib.axis_1\">\n    <g id=\"xtick_1\">\n     <g id=\"line2d_1\">\n      <defs>\n       <path d=\"M 0 0 \nL 0 3.5 \n\" id=\"m556d81dde6\" style=\"stroke:#000000;stroke-width:0.8;\"/>\n      </defs>\n      <g>\n       <use style=\"stroke:#000000;stroke-width:0.8;\" x=\"45.321307\" xlink:href=\"#m556d81dde6\" y=\"224.64\"/>\n      </g>\n     </g>\n     <g id=\"text_1\">\n      <!-- 0.0 -->\n      <g transform=\"translate(37.369744 239.238437)scale(0.1 -0.1)\">\n       <defs>\n        <path d=\"M 31.78125 66.40625 \nQ 24.171875 66.40625 20.328125 58.90625 \nQ 16.5 51.421875 16.5 36.375 \nQ 16.5 21.390625 20.328125 13.890625 \nQ 24.171875 6.390625 31.78125 6.390625 \nQ 39.453125 6.390625 43.28125 13.890625 \nQ 47.125 21.390625 47.125 36.375 \nQ 47.125 51.421875 43.28125 58.90625 \nQ 39.453125 66.40625 31.78125 66.40625 \nz\nM 31.78125 74.21875 \nQ 44.046875 74.21875 50.515625 64.515625 \nQ 56.984375 54.828125 56.984375 36.375 \nQ 56.984375 17.96875 50.515625 8.265625 \nQ 44.046875 -1.421875 31.78125 -1.421875 \nQ 19.53125 -1.421875 13.0625 8.265625 \nQ 6.59375 17.96875 6.59375 36.375 \nQ 6.59375 54.828125 13.0625 64.515625 \nQ 19.53125 74.21875 31.78125 74.21875 \nz\n\" id=\"DejaVuSans-48\"/>\n        <path d=\"M 10.6875 12.40625 \nL 21 12.40625 \nL 21 0 \nL 10.6875 0 \nz\n\" id=\"DejaVuSans-46\"/>\n       </defs>\n       <use xlink:href=\"#DejaVuSans-48\"/>\n       <use x=\"63.623047\" xlink:href=\"#DejaVuSans-46\"/>\n       <use x=\"95.410156\" xlink:href=\"#DejaVuSans-48\"/>\n      </g>\n     </g>\n    </g>\n    <g id=\"xtick_2\">\n     <g id=\"line2d_2\">\n      <g>\n       <use style=\"stroke:#000000;stroke-width:0.8;\" x=\"106.194034\" xlink:href=\"#m556d81dde6\" y=\"224.64\"/>\n      </g>\n     </g>\n     <g id=\"text_2\">\n      <!-- 0.2 -->\n      <g transform=\"translate(98.242472 239.238437)scale(0.1 -0.1)\">\n       <defs>\n        <path d=\"M 19.1875 8.296875 \nL 53.609375 8.296875 \nL 53.609375 0 \nL 7.328125 0 \nL 7.328125 8.296875 \nQ 12.9375 14.109375 22.625 23.890625 \nQ 32.328125 33.6875 34.8125 36.53125 \nQ 39.546875 41.84375 41.421875 45.53125 \nQ 43.3125 49.21875 43.3125 52.78125 \nQ 43.3125 58.59375 39.234375 62.25 \nQ 35.15625 65.921875 28.609375 65.921875 \nQ 23.96875 65.921875 18.8125 64.3125 \nQ 13.671875 62.703125 7.8125 59.421875 \nL 7.8125 69.390625 \nQ 13.765625 71.78125 18.9375 73 \nQ 24.125 74.21875 28.421875 74.21875 \nQ 39.75 74.21875 46.484375 68.546875 \nQ 53.21875 62.890625 53.21875 53.421875 \nQ 53.21875 48.921875 51.53125 44.890625 \nQ 49.859375 40.875 45.40625 35.40625 \nQ 44.1875 33.984375 37.640625 27.21875 \nQ 31.109375 20.453125 19.1875 8.296875 \nz\n\" id=\"DejaVuSans-50\"/>\n       </defs>\n       <use xlink:href=\"#DejaVuSans-48\"/>\n       <use x=\"63.623047\" xlink:href=\"#DejaVuSans-46\"/>\n       <use x=\"95.410156\" xlink:href=\"#DejaVuSans-50\"/>\n      </g>\n     </g>\n    </g>\n    <g id=\"xtick_3\">\n     <g id=\"line2d_3\">\n      <g>\n       <use style=\"stroke:#000000;stroke-width:0.8;\" x=\"167.066761\" xlink:href=\"#m556d81dde6\" y=\"224.64\"/>\n      </g>\n     </g>\n     <g id=\"text_3\">\n      <!-- 0.4 -->\n      <g transform=\"translate(159.115199 239.238437)scale(0.1 -0.1)\">\n       <defs>\n        <path d=\"M 37.796875 64.3125 \nL 12.890625 25.390625 \nL 37.796875 25.390625 \nz\nM 35.203125 72.90625 \nL 47.609375 72.90625 \nL 47.609375 25.390625 \nL 58.015625 25.390625 \nL 58.015625 17.1875 \nL 47.609375 17.1875 \nL 47.609375 0 \nL 37.796875 0 \nL 37.796875 17.1875 \nL 4.890625 17.1875 \nL 4.890625 26.703125 \nz\n\" id=\"DejaVuSans-52\"/>\n       </defs>\n       <use xlink:href=\"#DejaVuSans-48\"/>\n       <use x=\"63.623047\" xlink:href=\"#DejaVuSans-46\"/>\n       <use x=\"95.410156\" xlink:href=\"#DejaVuSans-52\"/>\n      </g>\n     </g>\n    </g>\n    <g id=\"xtick_4\">\n     <g id=\"line2d_4\">\n      <g>\n       <use style=\"stroke:#000000;stroke-width:0.8;\" x=\"227.939489\" xlink:href=\"#m556d81dde6\" y=\"224.64\"/>\n      </g>\n     </g>\n     <g id=\"text_4\">\n      <!-- 0.6 -->\n      <g transform=\"translate(219.987926 239.238437)scale(0.1 -0.1)\">\n       <defs>\n        <path d=\"M 33.015625 40.375 \nQ 26.375 40.375 22.484375 35.828125 \nQ 18.609375 31.296875 18.609375 23.390625 \nQ 18.609375 15.53125 22.484375 10.953125 \nQ 26.375 6.390625 33.015625 6.390625 \nQ 39.65625 6.390625 43.53125 10.953125 \nQ 47.40625 15.53125 47.40625 23.390625 \nQ 47.40625 31.296875 43.53125 35.828125 \nQ 39.65625 40.375 33.015625 40.375 \nz\nM 52.59375 71.296875 \nL 52.59375 62.3125 \nQ 48.875 64.0625 45.09375 64.984375 \nQ 41.3125 65.921875 37.59375 65.921875 \nQ 27.828125 65.921875 22.671875 59.328125 \nQ 17.53125 52.734375 16.796875 39.40625 \nQ 19.671875 43.65625 24.015625 45.921875 \nQ 28.375 48.1875 33.59375 48.1875 \nQ 44.578125 48.1875 50.953125 41.515625 \nQ 57.328125 34.859375 57.328125 23.390625 \nQ 57.328125 12.15625 50.6875 5.359375 \nQ 44.046875 -1.421875 33.015625 -1.421875 \nQ 20.359375 -1.421875 13.671875 8.265625 \nQ 6.984375 17.96875 6.984375 36.375 \nQ 6.984375 53.65625 15.1875 63.9375 \nQ 23.390625 74.21875 37.203125 74.21875 \nQ 40.921875 74.21875 44.703125 73.484375 \nQ 48.484375 72.75 52.59375 71.296875 \nz\n\" id=\"DejaVuSans-54\"/>\n       </defs>\n       <use xlink:href=\"#DejaVuSans-48\"/>\n       <use x=\"63.623047\" xlink:href=\"#DejaVuSans-46\"/>\n       <use x=\"95.410156\" xlink:href=\"#DejaVuSans-54\"/>\n      </g>\n     </g>\n    </g>\n    <g id=\"xtick_5\">\n     <g id=\"line2d_5\">\n      <g>\n       <use style=\"stroke:#000000;stroke-width:0.8;\" x=\"288.812216\" xlink:href=\"#m556d81dde6\" y=\"224.64\"/>\n      </g>\n     </g>\n     <g id=\"text_5\">\n      <!-- 0.8 -->\n      <g transform=\"translate(280.860653 239.238437)scale(0.1 -0.1)\">\n       <defs>\n        <path d=\"M 31.78125 34.625 \nQ 24.75 34.625 20.71875 30.859375 \nQ 16.703125 27.09375 16.703125 20.515625 \nQ 16.703125 13.921875 20.71875 10.15625 \nQ 24.75 6.390625 31.78125 6.390625 \nQ 38.8125 6.390625 42.859375 10.171875 \nQ 46.921875 13.96875 46.921875 20.515625 \nQ 46.921875 27.09375 42.890625 30.859375 \nQ 38.875 34.625 31.78125 34.625 \nz\nM 21.921875 38.8125 \nQ 15.578125 40.375 12.03125 44.71875 \nQ 8.5 49.078125 8.5 55.328125 \nQ 8.5 64.0625 14.71875 69.140625 \nQ 20.953125 74.21875 31.78125 74.21875 \nQ 42.671875 74.21875 48.875 69.140625 \nQ 55.078125 64.0625 55.078125 55.328125 \nQ 55.078125 49.078125 51.53125 44.71875 \nQ 48 40.375 41.703125 38.8125 \nQ 48.828125 37.15625 52.796875 32.3125 \nQ 56.78125 27.484375 56.78125 20.515625 \nQ 56.78125 9.90625 50.3125 4.234375 \nQ 43.84375 -1.421875 31.78125 -1.421875 \nQ 19.734375 -1.421875 13.25 4.234375 \nQ 6.78125 9.90625 6.78125 20.515625 \nQ 6.78125 27.484375 10.78125 32.3125 \nQ 14.796875 37.15625 21.921875 38.8125 \nz\nM 18.3125 54.390625 \nQ 18.3125 48.734375 21.84375 45.5625 \nQ 25.390625 42.390625 31.78125 42.390625 \nQ 38.140625 42.390625 41.71875 45.5625 \nQ 45.3125 48.734375 45.3125 54.390625 \nQ 45.3125 60.0625 41.71875 63.234375 \nQ 38.140625 66.40625 31.78125 66.40625 \nQ 25.390625 66.40625 21.84375 63.234375 \nQ 18.3125 60.0625 18.3125 54.390625 \nz\n\" id=\"DejaVuSans-56\"/>\n       </defs>\n       <use xlink:href=\"#DejaVuSans-48\"/>\n       <use x=\"63.623047\" xlink:href=\"#DejaVuSans-46\"/>\n       <use x=\"95.410156\" xlink:href=\"#DejaVuSans-56\"/>\n      </g>\n     </g>\n    </g>\n    <g id=\"xtick_6\">\n     <g id=\"line2d_6\">\n      <g>\n       <use style=\"stroke:#000000;stroke-width:0.8;\" x=\"349.684943\" xlink:href=\"#m556d81dde6\" y=\"224.64\"/>\n      </g>\n     </g>\n     <g id=\"text_6\">\n      <!-- 1.0 -->\n      <g transform=\"translate(341.733381 239.238437)scale(0.1 -0.1)\">\n       <defs>\n        <path d=\"M 12.40625 8.296875 \nL 28.515625 8.296875 \nL 28.515625 63.921875 \nL 10.984375 60.40625 \nL 10.984375 69.390625 \nL 28.421875 72.90625 \nL 38.28125 72.90625 \nL 38.28125 8.296875 \nL 54.390625 8.296875 \nL 54.390625 0 \nL 12.40625 0 \nz\n\" id=\"DejaVuSans-49\"/>\n       </defs>\n       <use xlink:href=\"#DejaVuSans-49\"/>\n       <use x=\"63.623047\" xlink:href=\"#DejaVuSans-46\"/>\n       <use x=\"95.410156\" xlink:href=\"#DejaVuSans-48\"/>\n      </g>\n     </g>\n    </g>\n   </g>\n   <g id=\"matplotlib.axis_2\">\n    <g id=\"ytick_1\">\n     <g id=\"line2d_7\">\n      <defs>\n       <path d=\"M 0 0 \nL -3.5 0 \n\" id=\"m01a4ac6050\" style=\"stroke:#000000;stroke-width:0.8;\"/>\n      </defs>\n      <g>\n       <use style=\"stroke:#000000;stroke-width:0.8;\" x=\"30.103125\" xlink:href=\"#m01a4ac6050\" y=\"214.756364\"/>\n      </g>\n     </g>\n     <g id=\"text_7\">\n      <!-- 0.0 -->\n      <g transform=\"translate(7.2 218.555582)scale(0.1 -0.1)\">\n       <use xlink:href=\"#DejaVuSans-48\"/>\n       <use x=\"63.623047\" xlink:href=\"#DejaVuSans-46\"/>\n       <use x=\"95.410156\" xlink:href=\"#DejaVuSans-48\"/>\n      </g>\n     </g>\n    </g>\n    <g id=\"ytick_2\">\n     <g id=\"line2d_8\">\n      <g>\n       <use style=\"stroke:#000000;stroke-width:0.8;\" x=\"30.103125\" xlink:href=\"#m01a4ac6050\" y=\"175.221818\"/>\n      </g>\n     </g>\n     <g id=\"text_8\">\n      <!-- 0.2 -->\n      <g transform=\"translate(7.2 179.021037)scale(0.1 -0.1)\">\n       <use xlink:href=\"#DejaVuSans-48\"/>\n       <use x=\"63.623047\" xlink:href=\"#DejaVuSans-46\"/>\n       <use x=\"95.410156\" xlink:href=\"#DejaVuSans-50\"/>\n      </g>\n     </g>\n    </g>\n    <g id=\"ytick_3\">\n     <g id=\"line2d_9\">\n      <g>\n       <use style=\"stroke:#000000;stroke-width:0.8;\" x=\"30.103125\" xlink:href=\"#m01a4ac6050\" y=\"135.687273\"/>\n      </g>\n     </g>\n     <g id=\"text_9\">\n      <!-- 0.4 -->\n      <g transform=\"translate(7.2 139.486491)scale(0.1 -0.1)\">\n       <use xlink:href=\"#DejaVuSans-48\"/>\n       <use x=\"63.623047\" xlink:href=\"#DejaVuSans-46\"/>\n       <use x=\"95.410156\" xlink:href=\"#DejaVuSans-52\"/>\n      </g>\n     </g>\n    </g>\n    <g id=\"ytick_4\">\n     <g id=\"line2d_10\">\n      <g>\n       <use style=\"stroke:#000000;stroke-width:0.8;\" x=\"30.103125\" xlink:href=\"#m01a4ac6050\" y=\"96.152727\"/>\n      </g>\n     </g>\n     <g id=\"text_10\">\n      <!-- 0.6 -->\n      <g transform=\"translate(7.2 99.951946)scale(0.1 -0.1)\">\n       <use xlink:href=\"#DejaVuSans-48\"/>\n       <use x=\"63.623047\" xlink:href=\"#DejaVuSans-46\"/>\n       <use x=\"95.410156\" xlink:href=\"#DejaVuSans-54\"/>\n      </g>\n     </g>\n    </g>\n    <g id=\"ytick_5\">\n     <g id=\"line2d_11\">\n      <g>\n       <use style=\"stroke:#000000;stroke-width:0.8;\" x=\"30.103125\" xlink:href=\"#m01a4ac6050\" y=\"56.618182\"/>\n      </g>\n     </g>\n     <g id=\"text_11\">\n      <!-- 0.8 -->\n      <g transform=\"translate(7.2 60.417401)scale(0.1 -0.1)\">\n       <use xlink:href=\"#DejaVuSans-48\"/>\n       <use x=\"63.623047\" xlink:href=\"#DejaVuSans-46\"/>\n       <use x=\"95.410156\" xlink:href=\"#DejaVuSans-56\"/>\n      </g>\n     </g>\n    </g>\n    <g id=\"ytick_6\">\n     <g id=\"line2d_12\">\n      <g>\n       <use style=\"stroke:#000000;stroke-width:0.8;\" x=\"30.103125\" xlink:href=\"#m01a4ac6050\" y=\"17.083636\"/>\n      </g>\n     </g>\n     <g id=\"text_12\">\n      <!-- 1.0 -->\n      <g transform=\"translate(7.2 20.882855)scale(0.1 -0.1)\">\n       <use xlink:href=\"#DejaVuSans-49\"/>\n       <use x=\"63.623047\" xlink:href=\"#DejaVuSans-46\"/>\n       <use x=\"95.410156\" xlink:href=\"#DejaVuSans-48\"/>\n      </g>\n     </g>\n    </g>\n   </g>\n   <g id=\"line2d_13\">\n    <path clip-path=\"url(#pbd051357a3)\" d=\"M 45.321307 214.756364 \nL 62.80028 43.350731 \nL 349.684943 17.083636 \n\" style=\"fill:none;stroke:#1f77b4;stroke-linecap:square;stroke-width:1.5;\"/>\n   </g>\n   <g id=\"line2d_14\">\n    <path clip-path=\"url(#pbd051357a3)\" d=\"M 45.321307 214.756364 \nL 349.684943 17.083636 \n\" style=\"fill:none;stroke:#000000;stroke-dasharray:5.55,2.4;stroke-dashoffset:0;stroke-width:1.5;\"/>\n   </g>\n   <g id=\"patch_3\">\n    <path d=\"M 30.103125 224.64 \nL 30.103125 7.2 \n\" style=\"fill:none;stroke:#000000;stroke-linecap:square;stroke-linejoin:miter;stroke-width:0.8;\"/>\n   </g>\n   <g id=\"patch_4\">\n    <path d=\"M 364.903125 224.64 \nL 364.903125 7.2 \n\" style=\"fill:none;stroke:#000000;stroke-linecap:square;stroke-linejoin:miter;stroke-width:0.8;\"/>\n   </g>\n   <g id=\"patch_5\">\n    <path d=\"M 30.103125 224.64 \nL 364.903125 224.64 \n\" style=\"fill:none;stroke:#000000;stroke-linecap:square;stroke-linejoin:miter;stroke-width:0.8;\"/>\n   </g>\n   <g id=\"patch_6\">\n    <path d=\"M 30.103125 7.2 \nL 364.903125 7.2 \n\" style=\"fill:none;stroke:#000000;stroke-linecap:square;stroke-linejoin:miter;stroke-width:0.8;\"/>\n   </g>\n  </g>\n </g>\n <defs>\n  <clipPath id=\"pbd051357a3\">\n   <rect height=\"217.44\" width=\"334.8\" x=\"30.103125\" y=\"7.2\"/>\n  </clipPath>\n </defs>\n</svg>\n",
      "image/png": "[encoded data removed]"
     },
     "metadata": {
      "needs_background": "light"
     }
    }
   ],
   "source": [
    "from sklearn.metrics import roc_curve\n",
    "import matplotlib.pyplot as plt\n",
    "\n",
    "# fpr = False positive rate\n",
    "# tpr = True positive rate\n",
    "fpr, tpr, thr = roc_curve(test_label , predictions, sample_weight=test_weights)\n",
    "plt.plot(fpr, tpr, label='ROC')\n",
    "plt.plot([0,1],[0,1], 'k--')\n",
    "plt.show()"
   ]
  },
  {
   "cell_type": "code",
   "execution_count": 19,
   "metadata": {},
   "outputs": [
    {
     "output_type": "execute_result",
     "data": {
      "text/plain": [
       "0.9048451689102053"
      ]
     },
     "metadata": {},
     "execution_count": 19
    }
   ],
   "source": [
    "roc_auc_score(test_label , predictions, sample_weight=test_weights)"
   ]
  },
  {
   "source": [
    "0.8715906 antes da optimização do optuna ||\n",
    "0.9048451689102053 depois da optimização do optuna"
   ],
   "cell_type": "markdown",
   "metadata": {}
  },
  {
   "cell_type": "code",
   "execution_count": null,
   "metadata": {},
   "outputs": [],
   "source": []
  }
 ]
}